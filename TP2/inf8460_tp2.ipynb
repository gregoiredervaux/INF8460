{
 "cells": [
  {
   "cell_type": "markdown",
   "metadata": {},
   "source": [
    "# École Polytechnique de Montréal\n",
    "Département Génie Informatique et Génie Logiciel\n",
    "INF8460 – Traitement automatique de la langue naturelle\n",
    "\n",
    "### Prof. Amal Zouaq\n",
    "### Chargé de laboratoire: Félix Martel\n"
   ]
  },
  {
   "cell_type": "markdown",
   "metadata": {},
   "source": [
    "# INF8460 - TP2"
   ]
  },
  {
   "cell_type": "markdown",
   "metadata": {},
   "source": [
    "## Objectifs\n",
    "\n",
    "•\tExplorer les modèles d’espaces vectoriels comme représentations distribuées de la sémantique des mots et des documents\n",
    "\n",
    "•\tComprendre différentes mesures de distance entre vecteurs de documents et de mots\n",
    "\n",
    "•\tUtiliser un modèle de langue n-gramme de caractères et l’algorithme Naive Bayes pour l’analyse de sentiments dans des revues de films (positives, négatives)\n"
   ]
  },
  {
   "cell_type": "markdown",
   "metadata": {},
   "source": [
    "## 1. Prétraitement"
   ]
  },
  {
   "cell_type": "markdown",
   "metadata": {},
   "source": [
    "Le jeu de données est séparé en deux répertoires `train/`et `test`, chacun contenant eux-mêmes deux sous-répertoires `pos/` et `neg/` pour les revues positives et négatives. Un fichier `readme` décrit plus précisément les données.\n",
    "\n",
    "Commencez par lire ces données, en gardant séparées les données d'entraînement et de test."
   ]
  },
  {
   "cell_type": "code",
   "execution_count": 1,
   "metadata": {},
   "outputs": [
    {
     "name": "stderr",
     "output_type": "stream",
     "text": [
      "[nltk_data] Downloading package stopwords to\n",
      "[nltk_data]     /home/gregoire/nltk_data...\n",
      "[nltk_data]   Package stopwords is already up-to-date!\n"
     ]
    },
    {
     "name": "stdout",
     "output_type": "stream",
     "text": [
      "Nombre de fichiers non-ouverts : 0\n"
     ]
    }
   ],
   "source": [
    "import os\n",
    "import re\n",
    "import nltk\n",
    "import collections\n",
    "import math\n",
    "import itertools\n",
    "import time\n",
    "import copy\n",
    "import numpy as np\n",
    "from scipy.spatial import distance\n",
    "from nltk.corpus import stopwords\n",
    "nltk.download('stopwords')\n",
    "\n",
    "global dictionnaire\n",
    "# notre dictionnaire de donnée aura cette forme là\n",
    "dictionnaire = {\n",
    "    \"test\": {\"pos\": {},\n",
    "            \"neg\": {}},\n",
    "    \"train\": {\"pos\": {},\n",
    "            \"neg\": {}}\n",
    "}\n",
    "\n",
    "nb_failed_files = 0\n",
    "for train_type in [\"test\", \"train\"]:\n",
    "    for classification in [\"pos\", \"neg\"]:\n",
    "        path = './data/' + train_type + '/' + classification + '/'\n",
    "        for file in os.listdir(path):\n",
    "            id_review, rate_review = file.split(\"_\")\n",
    "            rate_review = rate_review.split(\".txt\")[0]\n",
    "            if int(id_review) not in dictionnaire[train_type][classification]:\n",
    "                with open(path + file, \"r\") as f:\n",
    "                    try:\n",
    "                        dictionnaire[train_type][classification][int(id_review)] = { \"rate\": int(rate_review), \"review_str\": f.read()}\n",
    "                    except:\n",
    "                        nb_failed_files += 1\n",
    "\n",
    "print(\"Nombre de fichiers non-ouverts : \" + str(nb_failed_files))\n",
    "init_dictionnaire = copy.deepcopy(dictionnaire)"
   ]
  },
  {
   "cell_type": "markdown",
   "metadata": {},
   "source": [
    "**a)** Créez la fonction `clean_doc()` qui effectue les pré-traitements suivants : segmentation en mots ; \n",
    "suppression des signes de ponctuations ; suppression des mots qui contiennent des caractères autres qu’alphabétiques ; \n",
    "suppression des mots qui sont connus comme des stop words ; suppression des mots qui ont une longueur de 1 caractère. Ensuite, appliquez-la à vos données.\n",
    "\n",
    "Les stop words peuvent être obtenus avec `from nltk.corpus import stopwords`. Vous pourrez utiliser des [expressions régulières](https://docs.python.org/3.7/howto/regex.html)."
   ]
  },
  {
   "cell_type": "code",
   "execution_count": 2,
   "metadata": {},
   "outputs": [
    {
     "name": "stdout",
     "output_type": "stream",
     "text": [
      "exemple: \n",
      "\n",
      "['went', 'saw', 'movie', 'last', 'night', 'coaxed', 'friends', 'mine', 'admit', 'reluctant', 'see', 'knew', 'Ashton', 'Kutcher', 'able', 'comedy', 'wrong', 'Kutcher', 'played', 'character', 'Jake', 'Fischer', 'well', 'Kevin', 'Costner', 'played', 'Ben', 'Randall', 'professionalism', 'The', 'sign', 'good', 'movie', 'toy', 'emotions', 'This', 'one', 'exactly', 'The', 'entire', 'theater', 'sold', 'overcome', 'laughter', 'first', 'half', 'movie', 'moved', 'tears', 'second', 'half', 'While', 'exiting', 'theater', 'saw', 'many', 'women', 'tears', 'many', 'full', 'grown', 'men', 'well', 'trying', 'desperately', 'let', 'anyone', 'see', 'crying', 'This', 'movie', 'great', 'suggest', 'go', 'see', 'judge']\n"
     ]
    }
   ],
   "source": [
    "def clean_doc(dictio):\n",
    "\n",
    "    for type_dataset in dictio:\n",
    "        for sentiment_type in dictio[type_dataset]:\n",
    "            for id_review in dictio[type_dataset][sentiment_type]:\n",
    "                # on va d'abord filtrer les caractères spéciaux\n",
    "                review = dictio[type_dataset][sentiment_type][id_review][\"review_str\"]\n",
    "                review = review.translate ({ord(c): \" \" for c in \"!@#$%^&*()[]{};:,./?\\|`~-=_+\"})\n",
    "                # on sépare les mots\n",
    "                review = review.split()\n",
    "                # on selectionne les mots qui ne sont pas des stop words\n",
    "                stop_words = set(stopwords.words('english'))\n",
    "                review_list = [w for w in review if not w in stop_words]\n",
    "                segmentize_review = []\n",
    "\n",
    "                for word in review_list:\n",
    "                    if(re.match('^[a-zA-Z]+$', word) and len(word)>1):\n",
    "                        segmentize_review.append(word)\n",
    "\n",
    "                dictio[type_dataset][sentiment_type][id_review][\"review\"] = segmentize_review\n",
    "\n",
    "\n",
    "\n",
    "clean_doc(dictionnaire)\n",
    "print(\"exemple: \\n\")\n",
    "print(dictionnaire[\"test\"][\"pos\"][0][\"review\"])"
   ]
  },
  {
   "cell_type": "markdown",
   "metadata": {},
   "source": [
    "**b)**\tCréez la fonction `build_voc()` qui extrait les unigrammes de l’ensemble d’entraînement et conserve ceux qui ont une fréquence d’occurrence de 5 au moins et imprime le nombre de mots dans le vocabulaire. Sauvegardez-le dans un fichier `vocab.txt` (un mot par ligne)."
   ]
  },
  {
   "cell_type": "code",
   "execution_count": 3,
   "metadata": {},
   "outputs": [
    {
     "name": "stdout",
     "output_type": "stream",
     "text": [
      "Nombre de mots dans le vocabulaire : 31558\n"
     ]
    }
   ],
   "source": [
    "def build_voc(dico_train):\n",
    "    count = collections.defaultdict(lambda: 0)\n",
    "    for classi in dico_train:\n",
    "        for review in dico_train[classi]:\n",
    "            text = dico_train[classi][review][\"review\"]\n",
    "            for word in text:\n",
    "                if word in count:\n",
    "                    count[word] += 1\n",
    "                else:\n",
    "                    count[word] = 1\n",
    "    n = 0\n",
    "    f = open(\"./data/vocab.txt\", \"w+\")\n",
    "    for word in count:\n",
    "        if count[word] >= 5:\n",
    "            n += 1\n",
    "            f.write(word + \"\\n\")\n",
    "    print(\"Nombre de mots dans le vocabulaire : \" + str(n))\n",
    "    f.close()\n",
    "    return n\n",
    "\n",
    "taille_voc = build_voc(dictionnaire[\"train\"])"
   ]
  },
  {
   "cell_type": "markdown",
   "metadata": {},
   "source": [
    "**c)** Vous devez créer une fonction `get_top_unigrams(n)` qui retourne les $n$ unigrammes les plus fréquents et les affiche, puis l'appeler avec $n=10$."
   ]
  },
  {
   "cell_type": "code",
   "execution_count": 4,
   "metadata": {},
   "outputs": [],
   "source": [
    "def get_top_unigrams(n):\n",
    "\n",
    "    dico_count = {}\n",
    "\n",
    "    for train_type in [\"test\", \"train\"]:\n",
    "        for classification in [\"pos\", \"neg\"]:\n",
    "            for review in dictionnaire[train_type][classification]:\n",
    "                for word in dictionnaire[train_type][classification][review]['review']:\n",
    "                    if word not in dico_count:\n",
    "                        dico_count[word] = 1\n",
    "                    else:\n",
    "                        dico_count[word] += 1\n",
    "    \n",
    "    # on se base sur un counter, bien plus rapide\n",
    "    counter = collections.Counter(dico_count)\n",
    "    top_unigrams = counter.most_common(n)\n",
    "    return [couple[0] for couple in top_unigrams]"
   ]
  },
  {
   "cell_type": "markdown",
   "metadata": {},
   "source": [
    "**d)**\tVous devez créer une fonction `get_top_unigrams_per_cls(n, cls)` qui retourne les $n$ unigrammes les plus fréquents de la classe `cls` (pos ou neg) et les affiche."
   ]
  },
  {
   "cell_type": "code",
   "execution_count": 5,
   "metadata": {},
   "outputs": [],
   "source": [
    "def get_top_unigrams_per_cls(n, cls):\n",
    "    dico_count = {}\n",
    "\n",
    "    for train_type in [\"test\", \"train\"]:\n",
    "        for review in dictionnaire[train_type][cls]:\n",
    "            for word in dictionnaire[train_type][cls][review]['review']:\n",
    "                if word not in dico_count:\n",
    "                    dico_count[word] = 1\n",
    "                else:\n",
    "                    dico_count[word] += 1\n",
    "    # idem\n",
    "    counter = collections.Counter(dico_count)\n",
    "    top_unigrams = counter.most_common(n)\n",
    "    return [couple[0] for couple in top_unigrams]"
   ]
  },
  {
   "cell_type": "markdown",
   "metadata": {},
   "source": [
    "**e)**\tAffichez les 10 unigrammes les plus fréquents dans la classe positive :"
   ]
  },
  {
   "cell_type": "code",
   "execution_count": 6,
   "metadata": {},
   "outputs": [
    {
     "name": "stdout",
     "output_type": "stream",
     "text": [
      "['film', 'movie', 'The', 'one', 'like', 'good', 'This', 'time', 'story', 'great']\n"
     ]
    }
   ],
   "source": [
    "print(get_top_unigrams_per_cls(10, \"pos\"))"
   ]
  },
  {
   "cell_type": "markdown",
   "metadata": {},
   "source": [
    "**f)**\tAffichez les 10 unigrammes les plus fréquents dans la classe négative :"
   ]
  },
  {
   "cell_type": "code",
   "execution_count": 7,
   "metadata": {},
   "outputs": [
    {
     "name": "stdout",
     "output_type": "stream",
     "text": [
      "['movie', 'film', 'The', 'one', 'like', 'good', 'bad', 'would', 'even', 'This']\n"
     ]
    }
   ],
   "source": [
    "print(get_top_unigrams_per_cls(10, \"neg\"))"
   ]
  },
  {
   "cell_type": "markdown",
   "metadata": {},
   "source": [
    "## 2. Matrices de co-occurence\n",
    "\n",
    "Pour les matrices de cette section, vous pourrez utiliser [des array `numpy`](https://docs.scipy.org/doc/numpy/reference/arrays.ndarray.html) ou des DataFrame [`pandas`](https://pandas.pydata.org/pandas-docs/stable/). \n",
    "\n",
    "Ressources utiles :  le [*quickstart tutorial*](https://numpy.org/devdocs/user/quickstart.html) de numpy et le guide [10 minutes to pandas](https://pandas.pydata.org/pandas-docs/stable/getting_started/10min.html)."
   ]
  },
  {
   "cell_type": "markdown",
   "metadata": {},
   "source": [
    "### 2.1 Matrice document × mot et TF-IDF\n",
    "\n",
    "\n",
    "Soit $X \\in \\mathbb{R}^{m \\times n}$ une matrice de $m$ documents et $n$ mots, telle que $X_{i,j}$ contient la fréquence d'occurrence du terme $j$ dans le document $i$ :\n",
    "\n",
    "$$\\textbf{rowsum}(X, d) = \\sum_{j=1}^{n}X_{dj}$$\n",
    "\n",
    "$$\\textbf{TF}(X, d, t) = \\frac{X_{d,t}}{\\textbf{rowsum}(X, d)}$$\n",
    "\n",
    "$$\\textbf{IDF}(X, t) = \\log\\left(\\frac{m}{|\\{d : X_{d,t} > 0\\}|}\\right)$$\n",
    "\n",
    "$$\\textbf{TF-IDF}(X, d, t) = \\textbf{TF}(X, d, t) \\cdot \\textbf{IDF}(X, t)$$\n"
   ]
  },
  {
   "cell_type": "markdown",
   "metadata": {},
   "source": [
    "En utilisant le même vocabulaire de 5 000 unigrammes, vous devez représenter les documents dans une matrice de co-occurrence document × mot $M(d, w)$  et les pondérer avec la mesure TF-IDF."
   ]
  },
  {
   "cell_type": "code",
   "execution_count": 8,
   "metadata": {},
   "outputs": [
    {
     "name": "stdout",
     "output_type": "stream",
     "text": [
      "les 5000 premiers unigrams\n",
      "['movie', 'film', 'The', 'one', 'like', 'good', 'This', 'time', 'would', 'really', 'story', 'see', 'It', 'even', 'much', 'well', 'get', 'bad', 'people', 'great', 'made', 'first', 'make', 'also', 'way', 'could', 'movies', 'think', 'characters', 'films']\n",
      "\n",
      "Bag of Word\n",
      "fait en : 179.48207807540894s\n",
      "[[6. 4. 1. ... 0. 0. 0.]\n",
      " [2. 0. 5. ... 0. 0. 0.]\n",
      " [0. 2. 0. ... 0. 0. 0.]\n",
      " ...\n",
      " [1. 4. 0. ... 0. 0. 0.]\n",
      " [3. 0. 0. ... 0. 0. 0.]\n",
      " [0. 2. 2. ... 0. 0. 0.]]\n",
      "\n",
      "Bag of Word TFIDF\n",
      "fait en : 235.26119875907898s\n",
      "[[3.03920905 2.41878736 0.45532785 ... 0.         0.         0.        ]\n",
      " [1.01306968 0.         2.27663924 ... 0.         0.         0.        ]\n",
      " [0.         1.20939368 0.         ... 0.         0.         0.        ]\n",
      " ...\n",
      " [0.50653484 2.41878736 0.         ... 0.         0.         0.        ]\n",
      " [1.51960453 0.         0.         ... 0.         0.         0.        ]\n",
      " [0.         1.20939368 0.91065569 ... 0.         0.         0.        ]]\n"
     ]
    }
   ],
   "source": [
    "unigrams = get_top_unigrams(5000)\n",
    "print(\"les 5000 premiers unigrams\")\n",
    "print(unigrams[0:30])\n",
    "debut_mm = time.time()\n",
    "BoW = np.array([])\n",
    "for train_type in [\"test\", \"train\"]:\n",
    "    for classification in [\"pos\", \"neg\"]:\n",
    "        # on construit un BoW vide, pour chaque classe et type\n",
    "        # pour éviter les appends à chaque nouvelle ligne et profiter des types numpy\n",
    "        BoW_part = np.zeros((len(dictionnaire[train_type][classification]), len(unigrams)))\n",
    "        for index, review in enumerate(dictionnaire[train_type][classification]):\n",
    "            for word in dictionnaire[train_type][classification][review]['review']:\n",
    "                if word in unigrams:\n",
    "                    BoW_part[index, unigrams.index(word)] += 1\n",
    "        # on construit la grande matrice à partir des 4 précédentes\n",
    "        BoW = np.append(BoW, BoW_part, axis=0) if BoW.size != 0 else BoW_part\n",
    "\n",
    "print(\"\\nBag of Word\")\n",
    "print(\"fait en : \" + str(time.time() - debut_mm) + \"s\")\n",
    "print(BoW)\n",
    "\n",
    "debut_mm = time.time()\n",
    "TFIDF_BoW = BoW.copy()\n",
    "# liste des idf par index (cf unigrams)\n",
    "idf = []\n",
    "for i,_ in enumerate(unigrams):\n",
    "    dfi = 0\n",
    "    for j in range(TFIDF_BoW.shape[0]):\n",
    "        # on compte le nombre de documents qui contiennent ce mot\n",
    "        dfi += 1 if TFIDF_BoW[j, i] != 0 else 0\n",
    "    # on calcul et ajoute le idf à la liste des idf\n",
    "    idf.append(math.log(TFIDF_BoW.shape[0] / dfi))\n",
    "\n",
    "# on modifie la matrice\n",
    "for j in range(TFIDF_BoW.shape[0]):\n",
    "    for i, _ in enumerate(unigrams):\n",
    "        value = TFIDF_BoW[j, i] * idf[i]\n",
    "        TFIDF_BoW[j, i] = value\n",
    "print(\"\\nBag of Word TFIDF\")\n",
    "print(\"fait en : \" + str(time.time() - debut_mm) + \"s\")\n",
    "print(TFIDF_BoW)"
   ]
  },
  {
   "cell_type": "markdown",
   "metadata": {},
   "source": [
    "### 2.2 Matrice mot × mot et PPMI (*positive pointwise mutual information*)\n",
    "\n",
    "Vous devez calculer la métrique PPMI. Pour une matrice $m \\times n$ $X$ :\n",
    "\n",
    "\n",
    "$$\\textbf{colsum}(X, j) = \\sum_{i=1}^{m}X_{ij}$$\n",
    "\n",
    "$$\\textbf{sum}(X) = \\sum_{i=1}^{m}\\sum_{j=1}^{n} X_{ij}$$\n",
    "\n",
    "$$\\textbf{expected}(X, i, j) = \n",
    "\\frac{\n",
    "  \\textbf{rowsum}(X, i) \\cdot \\textbf{colsum}(X, j)\n",
    "}{\n",
    "  \\textbf{sum}(X)\n",
    "}$$\n",
    "\n",
    "\n",
    "$$\\textbf{pmi}(X, i, j) = \\log\\left(\\frac{X_{ij}}{\\textbf{expected}(X, i, j)}\\right)$$\n",
    "\n",
    "$$\\textbf{ppmi}(X, i, j) = \n",
    "\\begin{cases}\n",
    "\\textbf{pmi}(X, i, j) & \\textrm{if } \\textbf{pmi}(X, i, j) > 0 \\\\\n",
    "0 & \\textrm{otherwise}\n",
    "\\end{cases}$$\n"
   ]
  },
  {
   "cell_type": "markdown",
   "metadata": {},
   "source": [
    "**a)**\tA partir des textes du corpus d’entrainement (neg *et* pos), vous devez construire une matrice de co-occurrence mot × mot $M(w,w)$ qui contient les 5000 unigrammes les plus fréquents. "
   ]
  },
  {
   "cell_type": "code",
   "execution_count": 9,
   "metadata": {},
   "outputs": [
    {
     "name": "stdout",
     "output_type": "stream",
     "text": [
      "matrice_MM\n",
      "fait en : 264.3557562828064s\n",
      "[[    0. 15033. 19527. ...    87.    73.    66.]\n",
      " [15033.     0. 18600. ...    96.   109.    72.]\n",
      " [19527. 18600.     0. ...   121.   112.    93.]\n",
      " ...\n",
      " [   87.    96.   121. ...     0.     0.     0.]\n",
      " [   73.   109.   112. ...     0.     0.     0.]\n",
      " [   66.    72.    93. ...     0.     0.     0.]]\n"
     ]
    }
   ],
   "source": [
    "debut_mm = time.time()\n",
    "# on initialise la matrice\n",
    "matrice_MM = np.zeros((len(unigrams), len(unigrams)))\n",
    "for train_type in [\"test\", \"train\"]:\n",
    "    for classification in [\"pos\", \"neg\"]:\n",
    "        for review in dictionnaire[train_type][classification]:\n",
    "            # on selectionne seulement les mots qui font parti des 5000 selectionnés\n",
    "            words_to_consider  = list(set(unigrams).intersection(dictionnaire[train_type][classification][review]['review']))\n",
    "            # on préfère manipuler les index pour ne pas à avoir à chercher dans la liste des mots\n",
    "            index_to_consider = [unigrams.index(couple_word) for couple_word in words_to_consider]\n",
    "            # on génère tout les couples possibles à partir des index des mots présents\n",
    "            permutation = itertools.permutations(index_to_consider, 2)\n",
    "            # on met à jour la matrice\n",
    "            for index_to_consider in permutation:\n",
    "                matrice_MM[index_to_consider] += 1\n",
    "\n",
    "print(\"matrice_MM\")\n",
    "print(\"fait en : \" + str(time.time() - debut_mm) + \"s\")\n",
    "print(matrice_MM)"
   ]
  },
  {
   "cell_type": "markdown",
   "metadata": {},
   "source": [
    "**b)**\tVous devez créer une fonction `calculate_PPMI` qui prend la matrice $M(w,w)$ et la transforme en une matrice $M’(w,w)$ avec les valeurs PPMI."
   ]
  },
  {
   "cell_type": "code",
   "execution_count": 10,
   "metadata": {},
   "outputs": [
    {
     "name": "stdout",
     "output_type": "stream",
     "text": [
      "matrice_PPMI\n",
      "fait en : 35.39947843551636s\n",
      "[[0.         0.09212505 0.20809633 ... 0.         0.         0.        ]\n",
      " [0.09212505 0.         0.14769804 ... 0.         0.         0.        ]\n",
      " [0.20809633 0.14769804 0.         ... 0.00283198 0.         0.07636374]\n",
      " ...\n",
      " [0.         0.         0.00283198 ... 0.         0.         0.        ]\n",
      " [0.         0.         0.         ... 0.         0.         0.        ]\n",
      " [0.         0.         0.07636374 ... 0.         0.         0.        ]]\n"
     ]
    }
   ],
   "source": [
    "debut_mm = time.time()\n",
    "def calculate_PPMI(matrice_MM):\n",
    "    colsum = np.sum(matrice_MM, axis=0)\n",
    "    row_sum = np.sum(matrice_MM, axis=1)\n",
    "    sum = np.sum(matrice_MM)\n",
    "    expected = np.zeros((matrice_MM.shape[0], matrice_MM.shape[1]))\n",
    "    ppmi =  np.zeros((matrice_MM.shape[0], matrice_MM.shape[1]))\n",
    "    for index,_ in np.ndenumerate(expected):\n",
    "        expected[index] = (row_sum[index[0]] * colsum[index[1]]) / sum\n",
    "        pmi = math.log(matrice_MM[index] / expected[index]) if matrice_MM[index] > 0 else 0\n",
    "        ppmi[index] = pmi if pmi > 0 else 0\n",
    "\n",
    "    return ppmi\n",
    "\n",
    "print(\"matrice_PPMI\")\n",
    "matrice_PPMI = calculate_PPMI(matrice_MM)\n",
    "print(\"fait en : \" + str(time.time() - debut_mm) + \"s\")\n",
    "print(matrice_PPMI)"
   ]
  },
  {
   "cell_type": "markdown",
   "metadata": {},
   "source": [
    "## 3. Mesures de similarité\n",
    "\n",
    "En utilisant le module [scipy.spatial.distance](https://docs.scipy.org/doc/scipy/reference/spatial.distance.html),  définissez des fonctions pour calculer les métriques suivantes :\n",
    "\n",
    "**Distance Euclidienne**\n",
    "\n",
    "La distance euclidienne entre deux vecteurs $u$ et $v$ de dimension $n$ est\n",
    "\n",
    "$$\\textbf{euclidean}(u, v) = \n",
    "\\sqrt{\\sum_{i=1}^{n}|u_{i} - v_{i}|^{2}}$$\n",
    "\n",
    "En deux dimensions, cela correspond à la longueur de la ligne droite entre deux points."
   ]
  },
  {
   "cell_type": "markdown",
   "metadata": {},
   "source": [
    "**a)** Implémentez la fonction `get_euclidean_distance(v1 ,v2)` qui retourne la distance euclidienne entre les vecteurs v1 et v2."
   ]
  },
  {
   "cell_type": "code",
   "execution_count": 11,
   "metadata": {},
   "outputs": [],
   "source": [
    "def get_euclidean_distance(v1 ,v2):\n",
    "    return distance.euclidean(v1, v2)"
   ]
  },
  {
   "cell_type": "markdown",
   "metadata": {},
   "source": [
    "**Distance Cosinus**\n",
    "\n",
    "\n",
    "La distance cosinus entre deux vecteurs $u$ et $v$ de dimension $n$ s'écrit :\n",
    "\n",
    "$$\\textbf{cosine}(u, v) = \n",
    "1 - \\frac{\\sum_{i=1}^{n} u_{i} \\cdot v_{i}}{\\|u\\|_{2} \\cdot \\|v\\|_{2}}$$\n",
    "\n",
    "Le terme de droite dans la soustraction mesure l'angle entre $u$ et $v$; on l'appelle la *similarité cosinus* entre $u$ et $v$.\n",
    "\n",
    "**b)** Implémentez la fonction `get_cosinus_distance(v1, v2)` qui retourne la distance cosinus entre les vecteurs v1 et v2."
   ]
  },
  {
   "cell_type": "code",
   "execution_count": 12,
   "metadata": {},
   "outputs": [],
   "source": [
    "def get_cosinus_distance(v1, v2):\n",
    "    return distance.cosine(v1, v2)"
   ]
  },
  {
   "cell_type": "markdown",
   "metadata": {},
   "source": [
    "**c)** Implémentez la fonction `get_most_similar_PPMI(word, metric, n)` qui prend un mot en entrée et une mesure de distance et qui retourne les n mots les plus similaires selon la mesure. Les mesures à tester sont : la distance euclidienne et la distance cosinus implantées ci-dessus. Le vecteur du mot word doit être extrait de la matrice $M’(w,w)$."
   ]
  },
  {
   "cell_type": "code",
   "execution_count": 13,
   "metadata": {},
   "outputs": [],
   "source": [
    "def get_most_similar_PPMI(word, metric, n):\n",
    "    index_word = unigrams.index(word)\n",
    "    ligne_word = matrice_PPMI[index_word]\n",
    "    vector_distance = {}\n",
    "    i = 0\n",
    "    if metric == \"cosinus\":\n",
    "        for index, ligne in enumerate(matrice_PPMI):\n",
    "            vector_distance[unigrams[index]] = get_cosinus_distance(ligne_word, ligne)\n",
    "            i += 1\n",
    "    elif metric == \"euclidean\":\n",
    "        for index, ligne in enumerate(matrice_PPMI):\n",
    "            vector_distance[unigrams[index]] = get_euclidean_distance(ligne_word, ligne)\n",
    "            i += 1\n",
    "    else:\n",
    "        print(\"metric inconnue\")\n",
    "\n",
    "    counter = collections.Counter(vector_distance)\n",
    "    top_unigrams = counter.most_common(n)\n",
    "    return [couple[0] for couple in top_unigrams]"
   ]
  },
  {
   "cell_type": "markdown",
   "metadata": {},
   "source": [
    "**d)** Trouvez les 5 mots les plus similaires au mot « bad » et affichez-les, pour chacune des deux distances. Commentez."
   ]
  },
  {
   "cell_type": "code",
   "execution_count": 14,
   "metadata": {},
   "outputs": [
    {
     "name": "stdout",
     "output_type": "stream",
     "text": [
      "les mots les plus proches de \"bad\": \n",
      "['Custer', 'Streisand', 'Cagney', 'Bugs', 'Felix', 'Garfield', 'Karloff', 'Columbo', 'Barney', 'Frost', 'Matthau', 'Lincoln', 'Cinderella', 'Hart', 'Radio']\n",
      "\n",
      "les mots les plus proches de \"bad\": \n",
      "['beautifully', 'beautiful', 'young', 'war', 'War', 'marriage', 'emotional', 'relationship', 'lives', 'journey', 'father', 'life', 'beauty', 'mother', 'wonderful']\n"
     ]
    }
   ],
   "source": [
    "print(\"les mots les plus proches de \\\"bad\\\": \")\n",
    "most_similar = get_most_similar_PPMI(\"bad\", \"euclidean\", 15)\n",
    "print(most_similar)\n",
    "\n",
    "print(\"\\nles mots les plus proches de \\\"bad\\\": \")\n",
    "most_similar = get_most_similar_PPMI(\"bad\", \"cosinus\", 15)\n",
    "print(most_similar)"
   ]
  },
  {
   "cell_type": "markdown",
   "metadata": {},
   "source": [
    "*-> Commentez ici<-*"
   ]
  },
  {
   "cell_type": "markdown",
   "metadata": {},
   "source": [
    "**e)** Implémentez la fonction `get_most_similar_TFIDF(word, metric, n)` qui prend un mot en entrée et une mesure de distance et qui retourne les n mots les plus similaires selon la mesure. Les mesures à tester sont : la distance euclidienne et la distance cosinus implantées ci-dessus. Le vecteur du mot word doit être extrait de la matrice $M(d,w)$."
   ]
  },
  {
   "cell_type": "code",
   "execution_count": 15,
   "metadata": {},
   "outputs": [],
   "source": [
    "def get_most_similar_TFIDF(word, metric, n):\n",
    "    index_word = unigrams.index(word)\n",
    "    column_word = TFIDF_BoW[:, index_word]\n",
    "    vector_distance = {}\n",
    "    if metric == \"cosinus\":\n",
    "        for index, column in enumerate(TFIDF_BoW.T):\n",
    "            vector_distance[unigrams[index]] = get_cosinus_distance(column_word, column)\n",
    "    elif metric == \"euclidean\":\n",
    "        for index, column in enumerate(TFIDF_BoW.T):\n",
    "            vector_distance[unigrams[index]] = get_euclidean_distance(column_word, column)\n",
    "    else:\n",
    "        print(\"metric inconnue\")\n",
    "\n",
    "    counter = collections.Counter(vector_distance)\n",
    "    top_unigrams = counter.most_common(n)\n",
    "    return [couple[0] for couple in top_unigrams]"
   ]
  },
  {
   "cell_type": "markdown",
   "metadata": {},
   "source": [
    "**f)** Trouvez les 5 mots les plus similaires au mot « bad » et affichez-les, pour chacune des deux distances. Commentez"
   ]
  },
  {
   "cell_type": "code",
   "execution_count": 16,
   "metadata": {},
   "outputs": [
    {
     "name": "stdout",
     "output_type": "stream",
     "text": [
      "les mots les plus proches de \"bad\": \n",
      "['show', 'game', 'match', 'Batman', 'series', 'book', 'Custer', 'Bond', 'Holmes', 'war', 'THE', 'horror', 'film', 'episode', 'Tarzan']\n",
      "\n",
      "les mots les plus proches de \"bad\": \n",
      "['Felix', 'Cassavetes', 'Bugs', 'Scarlett', 'Custer', 'Matthau', 'Lemmon', 'Heart', 'Streisand', 'Garfield', 'Stanwyck', 'Bourne', 'Jesse', 'Le', 'Holly']\n"
     ]
    }
   ],
   "source": [
    "print(\"les mots les plus proches de \\\"bad\\\": \")\n",
    "most_similar = get_most_similar_TFIDF(\"bad\", \"euclidean\", 15)\n",
    "print(most_similar)\n",
    "\n",
    "print(\"\\nles mots les plus proches de \\\"bad\\\": \")\n",
    "most_similar = get_most_similar_TFIDF(\"bad\", \"cosinus\", 15)\n",
    "print(most_similar)"
   ]
  },
  {
   "cell_type": "markdown",
   "metadata": {},
   "source": []
  },
  {
   "cell_type": "markdown",
   "metadata": {},
   "source": [
    "## 4. Classification de documents avec un modèle de langue\n",
    "\n",
    "En vous inspirant de [cet article](https://nbviewer.jupyter.org/gist/yoavg/d76121dfde2618422139), entraînez deux modèles de langue $n$-gramme de caractère avec lissage de Laplace, l'un sur le corpus `pos`, l'autre sur le corpus `neg`. Puis, pour chaque document $D$, calculez sa probabilité selon vos deux modèles : $P(D \\mid \\textrm{pos})$ et $P(D \\mid \\textrm{neg})$.\n",
    "\n",
    "Vous pourrez alors prédire sa classe $\\hat{c}_D \\in (\\textrm{pos}, \\textrm{neg})$ en prenant :\n",
    "\n",
    "$$\\hat{c}_D = \\begin{cases}\n",
    "\\textrm{pos} & \\textrm{si } P(D \\mid \\textrm{pos}) > P(D \\mid \\textrm{neg}) \\\\\n",
    "\\textrm{neg} & \\textrm{sinon}\n",
    "\\end{cases}$$"
   ]
  },
  {
   "cell_type": "markdown",
   "metadata": {},
   "source": [
    "Suite à une erreur de notre part, nous avons commencer à considérer les n_grammes de mots et non pas de caractère, nous avons préféré garder cette partie en plus car les résultats sont intéressants"
   ]
  },
  {
   "cell_type": "code",
   "execution_count": 19,
   "metadata": {
    "scrolled": false
   },
   "outputs": [
    {
     "name": "stdout",
     "output_type": "stream",
     "text": [
      "exemple: \n",
      "P(test positif | lm_pos): -796.9957750041692\n",
      "P(test positif | lm_neg): -796.9953948232064\n",
      "P(test negatif | lm_pos): -5625.255461800974\n",
      "P(test negatif | lm_neg): -5622.482588170049\n",
      "\n",
      "sur le dictionnaire initial:\n"
     ]
    },
    {
     "data": {
      "image/png": "[encoded data removed]",
      "text/plain": [
       "<Figure size 432x288 with 1 Axes>"
      ]
     },
     "metadata": {
      "needs_background": "light"
     },
     "output_type": "display_data"
    }
   ],
   "source": [
    "from collections import *\n",
    "import matplotlib.pyplot as plt\n",
    "\n",
    "# pour chaque document \"propre\" et segmenté, on créé un String qui contient tout les mots séparé d'un espace\n",
    "for type_dataset in dictionnaire:\n",
    "    for sentiment_type in dictionnaire[type_dataset]:\n",
    "        for id_review in dictionnaire[type_dataset][sentiment_type]:\n",
    "            review = dictionnaire[type_dataset][sentiment_type][id_review][\"review\"]\n",
    "            dictionnaire[type_dataset][sentiment_type][id_review][\"review_str\"] = \" \".join(review)\n",
    "\n",
    "# pour chaque document \"brut\" (un unique String) on créé une segmentation en fonction des espaces\n",
    "for type_dataset in init_dictionnaire:\n",
    "    for sentiment_type in init_dictionnaire[type_dataset]:\n",
    "        for id_review in init_dictionnaire[type_dataset][sentiment_type]:\n",
    "            review = init_dictionnaire[type_dataset][sentiment_type][id_review][\"review_str\"]\n",
    "            review = review.translate ({ord(c): \" \" for c in \"!@#$%^&*()[]{};:,./?\\|`~-=_+\"})\n",
    "            init_dictionnaire[type_dataset][sentiment_type][id_review][\"review\"] = review.split()\n",
    "\n",
    "# Ainsi, chaque dictionnaire (celui dont on a traité les documents et celui comportant les documents \"bruts\")\n",
    "# vont comporter leurs documents en une version segmentée et un version sous forme d'un grand String\n",
    "\n",
    "# Nous nous concentrons sur les n_grammes de mots en nous inspirant du code donné par l'article\n",
    "def train_words_lm(documents_lists, order=3):\n",
    "    lm = defaultdict(Counter)\n",
    "    # on compte les fréquences des mots\n",
    "    for review_index in documents_lists:\n",
    "        if \"review\" not in documents_lists[review_index]:\n",
    "            print(documents_lists[review_index])\n",
    "        review = documents_lists[review_index][\"review\"]\n",
    "        for i in range(len(review)-order):\n",
    "            history, word = review[i:i+order], review[i+order]\n",
    "            lm[tuple(history)][word]+=1\n",
    "    # cette fonction va nous servire à déterminer les probabilitées associées à chaque n-gramme\n",
    "    def normalize(counter):\n",
    "        s = float(sum(counter.values()))\n",
    "        unsmooth = {}\n",
    "        # pour toute les probabilitées, nous nous servons du logarithme de base 10 pour éviter les erreurs d'arrondie\n",
    "        for c,cnt in counter.items():\n",
    "            # on calcule la probabilité avec la formule de lissage de laplace\n",
    "            unsmooth[c] = math.log((cnt + 1)/(s + taille_voc))\n",
    "        # on applique la cas où le mot n'existe pas\n",
    "        unsmooth[\"not_found\"] = math.log(1/(s + taille_voc))\n",
    "        return unsmooth\n",
    "    outlm = {hist:normalize(words) for hist, words in lm.items()}\n",
    "    # on applique la cas où le contexte n'existe pas\n",
    "    outlm[\"not_found\"] = math.log(1 / int(taille_voc))\n",
    "    return outlm\n",
    "\n",
    "lm_pos = train_words_lm(dictionnaire[\"train\"][\"pos\"])\n",
    "lm_neg = train_words_lm(dictionnaire[\"train\"][\"neg\"])\n",
    "\n",
    "# On s'inspire grandement du code fournis dans l'article\n",
    "def calcul_proba(document, lm, order=3):\n",
    "    proba = 0\n",
    "    for i in range(len(document) - order):\n",
    "        history, word = tuple(document[i:i+order]), document[i+order]\n",
    "        if history in lm:\n",
    "            if word in lm[history]:\n",
    "                proba += lm[history][word] \n",
    "            else:\n",
    "                proba += lm[history][\"not_found\"]\n",
    "        else:\n",
    "            proba += lm[\"not_found\"]\n",
    "    return proba\n",
    "\n",
    "print(\"exemple: \")\n",
    "print(\"P(test positif | lm_pos): \" + str(calcul_proba(dictionnaire[\"test\"][\"pos\"][10][\"review\"], lm_pos)))\n",
    "print(\"P(test positif | lm_neg): \" + str(calcul_proba(dictionnaire[\"test\"][\"pos\"][10][\"review\"], lm_neg)))\n",
    "print(\"P(test negatif | lm_pos): \" + str(calcul_proba(dictionnaire[\"test\"][\"neg\"][10][\"review\"], lm_pos)))\n",
    "print(\"P(test negatif | lm_neg): \" + str(calcul_proba(dictionnaire[\"test\"][\"neg\"][10][\"review\"], lm_neg)))\n",
    "# variables qui serviront à l'affichage\n",
    "pos = []\n",
    "neg = []\n",
    "# nombre d'ordre que nous testerons\n",
    "n = 5\n",
    "print(\"\\nsur le dictionnaire initial:\")\n",
    "for i in range(n + 1):\n",
    "    # on entraine nos deux modèles de langues\n",
    "    lm_pos = train_words_lm(init_dictionnaire[\"train\"][\"pos\"], i)\n",
    "    lm_neg = train_words_lm(init_dictionnaire[\"train\"][\"neg\"], i)\n",
    "    for classe in init_dictionnaire[\"train\"]:\n",
    "        class_by_index = []\n",
    "        nb_pos = 0\n",
    "        # on prédit pour chaque document si il est positif ou négatif\n",
    "        for index_doc in range(len(dictionnaire[\"test\"][classe])):\n",
    "            proba_pos = calcul_proba(init_dictionnaire[\"test\"][classe][index_doc][\"review\"], lm_pos, i)\n",
    "            proba_neg = calcul_proba(init_dictionnaire[\"test\"][classe][index_doc][\"review\"], lm_neg, i)\n",
    "            \n",
    "            if proba_pos > proba_neg:\n",
    "                nb_pos += 1\n",
    "                class_by_index.append(1)\n",
    "            else:\n",
    "                class_by_index.append(0)\n",
    "        \n",
    "        # on stock l'information pour l'affichage\n",
    "        if classe == \"pos\": pos.append(nb_pos / len(class_by_index))\n",
    "        else: neg.append((len(class_by_index) - nb_pos) / len(class_by_index))\n",
    "        \n",
    "plt.plot(pos, label=\"class positif\")\n",
    "plt.plot(neg, label=\"class négatif\")\n",
    "plt.xlabel('orders')\n",
    "plt.ylabel('précision')\n",
    "plt.legend()\n",
    "plt.show()"
   ]
  },
  {
   "cell_type": "markdown",
   "metadata": {},
   "source": [
    "Le principe est ici exactement le même, mais nous avons utilisé cette fois ci des n-grammes de lettres"
   ]
  },
  {
   "cell_type": "code",
   "execution_count": 30,
   "metadata": {},
   "outputs": [
    {
     "name": "stdout",
     "output_type": "stream",
     "text": [
      "sur le dictionnaire propre\n"
     ]
    },
    {
     "data": {
      "image/png": "[encoded data removed]",
      "text/plain": [
       "<Figure size 432x288 with 1 Axes>"
      ]
     },
     "metadata": {
      "needs_background": "light"
     },
     "output_type": "display_data"
    },
    {
     "name": "stdout",
     "output_type": "stream",
     "text": [
      "\n",
      "sur le dictionnaire sans modification:\n"
     ]
    },
    {
     "data": {
      "image/png": "[encoded data removed]",
      "text/plain": [
       "<Figure size 432x288 with 1 Axes>"
      ]
     },
     "metadata": {
      "needs_background": "light"
     },
     "output_type": "display_data"
    }
   ],
   "source": [
    "def train_char_lm(data, order=4):\n",
    "    lm = defaultdict(Counter)\n",
    "    voc = set()\n",
    "    for review_index in data:\n",
    "        review = data[review_index][\"review_str\"]\n",
    "        # comme dans l'article on marque le début d'un document\n",
    "        pad = \"~\" * order\n",
    "        padded_review = pad + review\n",
    "        for i in range(len(padded_review) - order):\n",
    "            history, char = padded_review[i:i + order], padded_review[i + order]\n",
    "            if char not in voc: voc.add(char)\n",
    "            lm[history][char] += 1\n",
    "\n",
    "    def normalize(counter):\n",
    "        s = float(sum(counter.values()))\n",
    "        unsmooth = {}\n",
    "        for c, cnt in counter.items():\n",
    "            unsmooth[c] = math.log((cnt + 1) / (s + len(voc)))\n",
    "        unsmooth[\"not_found\"] = math.log(1 / (s + len(voc)))\n",
    "        return unsmooth\n",
    "\n",
    "    outlm = {hist: normalize(chars) for hist, chars in lm.items()}\n",
    "    outlm[\"not_found\"] = math.log(1 / len(voc))\n",
    "    return outlm\n",
    "\n",
    "\n",
    "def calcul_proba_char(document, lm, order=3):\n",
    "    proba = 0\n",
    "    for i in range(len(document) - order):\n",
    "        history, word = document[i:i + order], document[i + order]\n",
    "        if history in lm:\n",
    "            if word in lm[history]:\n",
    "                proba += lm[history][word]\n",
    "            else:\n",
    "                proba += lm[history][\"not_found\"]\n",
    "        else:\n",
    "            proba += lm[\"not_found\"]\n",
    "    return proba\n",
    "# on crée un dictionnaire pour stocker nos prédictions\n",
    "pred = {\n",
    "    \"clean\" : { \"pos\": {}, \n",
    "              \"neg\": {}},\n",
    "    \"raw\": { \"pos\": {}, \n",
    "              \"neg\": {}}\n",
    "       }\n",
    "\n",
    "pos = []\n",
    "neg = []\n",
    "print(\"sur le dictionnaire propre\")\n",
    "n = 10\n",
    "for i in range(3, n):\n",
    "    lm_pos = train_char_lm(dictionnaire[\"train\"][\"pos\"], i)\n",
    "    lm_neg = train_char_lm(dictionnaire[\"train\"][\"neg\"], i)\n",
    "    for classe in init_dictionnaire[\"train\"]:\n",
    "        pred[\"clean\"][classe][i] = []\n",
    "        class_by_index = []\n",
    "        nb_pos = 0\n",
    "        for index_doc in range(len(dictionnaire[\"test\"][\"pos\"])):\n",
    "            proba_pos = calcul_proba_char(dictionnaire[\"test\"][classe][index_doc][\"review_str\"], lm_pos, i)\n",
    "            proba_neg = calcul_proba_char(dictionnaire[\"test\"][classe][index_doc][\"review_str\"], lm_neg, i)\n",
    "            if proba_pos > proba_neg:\n",
    "                nb_pos += 1\n",
    "                pred[\"clean\"][classe][i].append(1)\n",
    "            else:\n",
    "                pred[\"clean\"][classe][i].append(0)\n",
    "\n",
    "        if classe == \"pos\":\n",
    "            pos.append(nb_pos / len(dictionnaire[\"test\"][\"pos\"]))\n",
    "        else: \n",
    "            neg.append((len(dictionnaire[\"test\"][\"pos\"]) - nb_pos) / len(dictionnaire[\"test\"][\"pos\"]))\n",
    "\n",
    "plt.plot(list(range(3,n)),pos, label=\"class positif\")\n",
    "plt.plot(list(range(3,n)),neg, label=\"class négatif\")\n",
    "plt.xlabel('orders')\n",
    "plt.ylabel('précision')\n",
    "plt.legend()\n",
    "plt.show()\n",
    "\n",
    "\n",
    "pos = []\n",
    "neg = []\n",
    "print(\"\\nsur le dictionnaire sans modification:\")\n",
    "for i in range(3, n):\n",
    "    class_by_index = []\n",
    "    nb_pos = 0\n",
    "    lm_pos = train_char_lm(init_dictionnaire[\"train\"][\"pos\"], i)\n",
    "    lm_neg = train_char_lm(init_dictionnaire[\"train\"][\"neg\"], i)\n",
    "    for classe in init_dictionnaire[\"train\"]:\n",
    "        pred[\"raw\"][classe][i] = []\n",
    "        class_by_index = []\n",
    "        nb_pos = 0\n",
    "        for index_doc in range(len(dictionnaire[\"test\"][classe])):\n",
    "            proba_pos = calcul_proba_char(init_dictionnaire[\"test\"][classe][index_doc][\"review_str\"], lm_pos, i)\n",
    "            proba_neg = calcul_proba_char(init_dictionnaire[\"test\"][classe][index_doc][\"review_str\"], lm_neg, i)\n",
    "            if proba_pos > proba_neg:\n",
    "                nb_pos += 1\n",
    "                pred[\"raw\"][classe][i].append(1)\n",
    "            else:\n",
    "                pred[\"raw\"][classe][i].append(0)\n",
    "\n",
    "        if classe == \"pos\":\n",
    "            pos.append(nb_pos / len(dictionnaire[\"test\"][\"pos\"]))\n",
    "        else:\n",
    "            neg.append((len(dictionnaire[\"test\"][\"pos\"]) - nb_pos) / len(dictionnaire[\"test\"][\"pos\"]))        \n",
    "\n",
    "plt.plot(list(range(3,n)), pos, label=\"class positif\")\n",
    "plt.plot(list(range(3,n)),neg, label=\"class négatif\")\n",
    "plt.xlabel('orders')\n",
    "plt.ylabel('précision')\n",
    "plt.legend()\n",
    "plt.show()\n"
   ]
  },
  {
   "cell_type": "markdown",
   "metadata": {},
   "source": [
    "## 5. Classification de documents avec sac de mots et Naive Bayes\n",
    "\n",
    "Ici, vous utiliserez l'algorithme Multinomial Naive Bayes (disponible dans [`sklearn.naive_bayes.MultinomialNB`](https://scikit-learn.org/stable/modules/generated/sklearn.naive_bayes.MultinomialNB.html)) pour classifier les documents. Vous utiliserez un modèle sac de mots (en anglais *bag of words*, ou BoW) avec TF-IDF pour représenter vos documents.\n",
    "\n",
    "*Note :* vous avez déjà construit la matrice TF-IDF à la section 2.1."
   ]
  },
  {
   "cell_type": "code",
   "execution_count": 33,
   "metadata": {},
   "outputs": [
    {
     "name": "stdout",
     "output_type": "stream",
     "text": [
      "[0 1 1 ... 0 0 0]\n"
     ]
    }
   ],
   "source": [
    "from sklearn.naive_bayes import MultinomialNB\n",
    "\n",
    "\n",
    "# y = 1:pos 0:neg\n",
    "X_test = TFIDF_BoW[0:len(dictionnaire[\"test\"][\"pos\"])+len(dictionnaire[\"test\"][\"neg\"])][:]\n",
    "y_test_nb = np.full((1, len(dictionnaire[\"test\"][\"pos\"])), 1)\n",
    "y_test_nb = np.append(y_test_nb, np.full((1, len(dictionnaire[\"test\"][\"neg\"])), 0))\n",
    "\n",
    "X_train = TFIDF_BoW[len(dictionnaire[\"test\"][\"pos\"])+len(dictionnaire[\"test\"][\"neg\"]):][:]\n",
    "y_train = np.full((1, len(dictionnaire[\"train\"][\"pos\"])), 1)\n",
    "y_train = np.append(y_train, np.full((1, len(dictionnaire[\"train\"][\"neg\"])), 0))\n",
    "\n",
    "classifier = MultinomialNB()\n",
    "classifier.fit(X_train, y_train)\n",
    "y_pred_nb = classifier.predict(X_test)\n",
    "print(y_pred_nb)"
   ]
  },
  {
   "cell_type": "markdown",
   "metadata": {},
   "source": [
    "## 6. Améliorations\n",
    "\n",
    "Ici, vous devez proposer une méthode d'amélioration pour le modèle précédent, la justifier et l'implémenter."
   ]
  },
  {
   "cell_type": "markdown",
   "metadata": {},
   "source": [
    "*-> Écrivez vos explications ici <-*"
   ]
  },
  {
   "cell_type": "code",
   "execution_count": 34,
   "metadata": {},
   "outputs": [
    {
     "name": "stdout",
     "output_type": "stream",
     "text": [
      "[0 1 1 ... 0 0 0]\n"
     ]
    }
   ],
   "source": [
    "from sklearn.decomposition import TruncatedSVD\n",
    "\n",
    "SVD = TruncatedSVD(100)\n",
    "new_X_train = np.matrix(SVD.fit_transform(X_train))\n",
    "new_X_train = np.subtract(new_X_train, new_X_train.min())\n",
    "classifier.fit(new_X_train, y_train)\n",
    "new_X_test = np.matrix(SVD.fit_transform(X_test))\n",
    "new_X_test = np.subtract(new_X_test, new_X_test.min())\n",
    "y_pred_svdNB = classifier.predict(new_X_test)\n",
    "\n",
    "classifier = MultinomialNB()\n",
    "PPMI_doc = calculate_PPMI(BoW)\n",
    "PPMI_doc = [[el+1 for el in row] for row in PPMI_doc]\n",
    "X_test = PPMI_doc[0:len(dictionnaire[\"test\"][\"pos\"])+len(dictionnaire[\"test\"][\"neg\"])][:]\n",
    "X_train = PPMI_doc[len(dictionnaire[\"test\"][\"pos\"])+len(dictionnaire[\"test\"][\"neg\"]):][:]\n",
    "classifier.fit(X_train, y_train)\n",
    "y_pred_multinomialNB = classifier.predict(X_test)\n",
    "print(y_pred_multinomialNB)"
   ]
  },
  {
   "cell_type": "markdown",
   "metadata": {},
   "source": [
    "## 7. Évaluation\n",
    "\n",
    "Évaluation des modèles des sections 4, 5, 6 sur les données de test. On attend les métriques suivantes : *accuracy*, et pour chaque classe précision, rappel, score F1. Vous pourrez utiliser le module [`sklearn.metrics`](https://scikit-learn.org/stable/modules/classes.html#module-sklearn.metrics)."
   ]
  },
  {
   "cell_type": "code",
   "execution_count": 37,
   "metadata": {},
   "outputs": [
    {
     "name": "stdout",
     "output_type": "stream",
     "text": [
      "Evaluation of n_gram model:\n",
      "   Accuracy NB:\n",
      "0.8568\n",
      "   Precision NB:\n",
      "0.8404060448786445\n",
      "   Recall NB:\n",
      "0.88088\n",
      "   F1-score NB:\n",
      "0.8601671744394969\n",
      "\n",
      "Evaluation of Naive Bayes Multinomial with TF-IDF:\n",
      "   Accuracy NB:\n",
      "0.83384\n",
      "   Precision NB:\n",
      "0.851085310449268\n",
      "   Recall NB:\n",
      "0.80928\n",
      "   F1-score NB:\n",
      "0.8296563602066759\n",
      "\n",
      "Evaluation of Naive Bayes Multinomial with TF-IDF and SVD:\n",
      "   Accuracy NB:\n",
      "0.6958\n",
      "   Precision NB:\n",
      "0.725846636523023\n",
      "   Recall NB:\n",
      "0.62928\n",
      "   F1-score NB:\n",
      "0.6741226378711916\n",
      "\n",
      "Evaluation of Naive Bayes Multinomial with PPMI:\n",
      "   Accuracy NB:\n",
      "0.853\n",
      "   Precision NB:\n",
      "0.8458343130339369\n",
      "   Recall NB:\n",
      "0.86336\n",
      "   F1-score NB:\n",
      "0.8545073043271706\n"
     ]
    }
   ],
   "source": [
    "from sklearn.metrics import accuracy_score, f1_score, recall_score, precision_score\n",
    "\n",
    "def evaluate(y_test, y_pred):\n",
    "    # accuracy\n",
    "    print(\"Accuracy NB:\")\n",
    "    print(accuracy_score(y_test, y_pred))\n",
    "\n",
    "    # precision\n",
    "    print(\"Precision NB:\")\n",
    "    print(precision_score(y_test, y_pred, average='binary'))\n",
    "\n",
    "    # recall\n",
    "    print(\"Recall NB:\")\n",
    "    print(recall_score(y_test, y_pred, average='binary'))\n",
    "\n",
    "    # F1-score\n",
    "    print(\"F1-score NB:\")\n",
    "    print(f1_score(y_test, y_pred, average='binary'))\n",
    "\n",
    "print(\"Evaluation of n_gram model:\")\n",
    "evaluate(y_test_nb, pred[\"clean\"][\"pos\"][9] + pred[\"clean\"][\"neg\"][9])\n",
    "print(\"\")\n",
    "print(\"Evaluation of Naive Bayes Multinomial with TF-IDF:\")\n",
    "evaluate(y_test_nb, y_pred_nb)\n",
    "print(\"\")\n",
    "print(\"Evaluation of Naive Bayes Multinomial with TF-IDF and SVD:\")\n",
    "evaluate(y_test_nb, y_pred_svdNB)\n",
    "print(\"\")\n",
    "print(\"Evaluation of Naive Bayes Multinomial with PPMI:\")\n",
    "evaluate(y_test_nb, y_pred_multinomialNB)"
   ]
  },
  {
   "cell_type": "markdown",
   "metadata": {},
   "source": [
    "Commentez vos résultats."
   ]
  },
  {
   "cell_type": "markdown",
   "metadata": {},
   "source": [
    "*-> Commentez ici vos résultats <-*"
   ]
  }
 ],
 "metadata": {
  "kernelspec": {
   "display_name": "Python 3",
   "language": "python",
   "name": "python3"
  },
  "language_info": {
   "codemirror_mode": {
    "name": "ipython",
    "version": 3
   },
   "file_extension": ".py",
   "mimetype": "text/x-python",
   "name": "python",
   "nbconvert_exporter": "python",
   "pygments_lexer": "ipython3",
   "version": "3.7.3"
  }
 },
 "nbformat": 4,
 "nbformat_minor": 2
}
